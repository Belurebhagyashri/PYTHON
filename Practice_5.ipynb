{
 "cells": [
  {
   "cell_type": "markdown",
   "id": "5e3e5d14-6dea-4f3b-9237-fa0312f5e509",
   "metadata": {},
   "source": [
    "### 1.write a programming to Reverse a list without using the reverse() method (use slicing or a loop).\n"
   ]
  },
  {
   "cell_type": "code",
   "execution_count": 11,
   "id": "e084ae3e-719b-4e38-a0b2-033267ac49e3",
   "metadata": {},
   "outputs": [
    {
     "name": "stdout",
     "output_type": "stream",
     "text": [
      "[7, 6, 5, 4, 3, 2, 1]\n"
     ]
    }
   ],
   "source": [
    "list=[1,2,3,4,5,6,7]\n",
    "list1=list [::-1]\n",
    "print(list1)"
   ]
  },
  {
   "cell_type": "markdown",
   "id": "69820d93-62ec-4337-891f-16396c7dfa28",
   "metadata": {},
   "source": [
    "### 2.Remove all occurrences of a specific element from a list.\n"
   ]
  },
  {
   "cell_type": "code",
   "execution_count": 13,
   "id": "a345a08a-990a-400b-bcdf-102c56d2660c",
   "metadata": {},
   "outputs": [
    {
     "name": "stdout",
     "output_type": "stream",
     "text": [
      "['a', 'b', 'a', 'c', 'a', 'd']\n",
      "['b', 'c', 'd']\n"
     ]
    }
   ],
   "source": [
    "alpha = [\"a\", \"b\", \"a\", \"c\", \"a\",\"d\"]\n",
    "remove_letter = \"a\"\n",
    "new_alpha = [letter for letter in alpha if letter != remove_letter]\n",
    "print(alpha)\n",
    "print(new_alpha)\n"
   ]
  },
  {
   "cell_type": "markdown",
   "id": "707ddf98-b878-4b09-94f6-5acdb4fc6409",
   "metadata": {},
   "source": [
    "### 3.write a program to Find the second largest number in a list.\n"
   ]
  },
  {
   "cell_type": "code",
   "execution_count": 15,
   "id": "767d80d7-5b0e-4885-8c76-f955cc2bfb6a",
   "metadata": {},
   "outputs": [
    {
     "name": "stdout",
     "output_type": "stream",
     "text": [
      "Second largest number is: 5\n"
     ]
    }
   ],
   "source": [
    "list=[2,5,8]\n",
    "list.sort()\n",
    "print(\"Second largest number is:\", list[-2])\n"
   ]
  },
  {
   "cell_type": "markdown",
   "id": "8065c5fc-287e-4b2e-998d-7e512d1318cd",
   "metadata": {},
   "source": [
    "#### 4.Use list comprehension to create a list of all even numbers between 1 and 20 (inclusive)."
   ]
  },
  {
   "cell_type": "code",
   "execution_count": 1,
   "id": "2df716f5-91e7-4ef5-a5d6-a24b46165d99",
   "metadata": {},
   "outputs": [
    {
     "name": "stdout",
     "output_type": "stream",
     "text": [
      "2\n",
      "4\n",
      "6\n",
      "8\n",
      "10\n",
      "12\n",
      "14\n",
      "16\n",
      "18\n",
      "20\n"
     ]
    }
   ],
   "source": [
    "number=[1,2,4,5,6,7,8,10,12,13,14,15,16,17,18,19,20]\n",
    "for num in number:\n",
    "    if num % 2==0:\n",
    "        print(num)"
   ]
  },
  {
   "cell_type": "markdown",
   "id": "06615002-711a-4b80-a6be-58b3450a7fe6",
   "metadata": {},
   "source": [
    "### 6. Given a list, remove a specific range of elements (defined by start and end indices) using the del keyword and slicing."
   ]
  },
  {
   "cell_type": "code",
   "execution_count": 11,
   "id": "c71ae86e-825f-4a5a-a571-37c4fe51a036",
   "metadata": {},
   "outputs": [
    {
     "name": "stdout",
     "output_type": "stream",
     "text": [
      "[10, 20, 22, 23, 24, 25]\n",
      "[22, 23, 24, 25]\n"
     ]
    }
   ],
   "source": [
    "num=[10,20,22,23,24,25]\n",
    "num1=num[0:6]\n",
    "del num[0:2]\n",
    "print(num1)\n",
    "print(num)"
   ]
  },
  {
   "cell_type": "markdown",
   "id": "b5b9145e-3d87-4bd0-a972-b098af3154e3",
   "metadata": {},
   "source": [
    "### 7. Given a list of words, use list comprehension to create a new list containing the length of each word."
   ]
  },
  {
   "cell_type": "code",
   "execution_count": 15,
   "id": "0138bcb5-3210-42b7-b3b2-cbf24355d9dd",
   "metadata": {},
   "outputs": [
    {
     "name": "stdout",
     "output_type": "stream",
     "text": [
      "Word lengths: [5, 6, 4]\n"
     ]
    }
   ],
   "source": [
    "words = [\"apple\", \"banana\", \"kiwi\"]\n",
    "lengths = [len(word) for word in words]\n",
    "print(\"Word lengths:\", lengths)"
   ]
  },
  {
   "cell_type": "markdown",
   "id": "cf69069b-9db1-4725-b4d2-10d22ecc1cb3",
   "metadata": {},
   "source": [
    "### 8. Write a function that takes a list and a value as input and removes all occurrences of that value from the list in-place."
   ]
  },
  {
   "cell_type": "code",
   "execution_count": 8,
   "id": "f1f408a3-d58c-406e-b104-d978b60999b6",
   "metadata": {},
   "outputs": [
    {
     "name": "stdout",
     "output_type": "stream",
     "text": [
      "['banana', 'cherry']\n"
     ]
    }
   ],
   "source": [
    "def remove_all(my_list, value):\n",
    "    while value in my_list:\n",
    "        my_list.remove(value)\n",
    "fruits = [\"apple\", \"banana\", \"apple\", \"cherry\", \"apple\"]\n",
    "\n",
    "remove_all(fruits, \"apple\")\n",
    "\n",
    "print(fruits)\n"
   ]
  },
  {
   "cell_type": "markdown",
   "id": "4ae83bcf-0834-4182-9c22-a7a35f52ef49",
   "metadata": {},
   "source": [
    "### 9. Write a program that takes a string as input, converts it into a list of characters, reverses the list, and then joins the characters back into a reversed string. Print the reversed string.\n"
   ]
  },
  {
   "cell_type": "code",
   "execution_count": 2,
   "id": "c238ba07-5c48-4f57-a5d1-cd6a3c6f19ff",
   "metadata": {},
   "outputs": [
    {
     "name": "stdin",
     "output_type": "stream",
     "text": [
      "Enter a string:  hii learner\n"
     ]
    },
    {
     "name": "stdout",
     "output_type": "stream",
     "text": [
      "Reversed string: renrael iih\n"
     ]
    }
   ],
   "source": [
    "text = input(\"Enter a string: \")\n",
    "char_list = list(text)\n",
    "char_list.reverse()\n",
    "reversed_text = ''.join(char_list)\n",
    "print(\"Reversed string:\", reversed_text)\n"
   ]
  },
  {
   "cell_type": "markdown",
   "id": "1da19a14-9387-4300-ac35-0109d2b3fc6e",
   "metadata": {},
   "source": [
    "### 10. Write a program that takes a sentence as input. Split the sentence into a list of words. Then, iterate through the list of words and count the total number of vowels (a, e, i, o, u - case-insensitive) in all the words combined. Print the total vowel count."
   ]
  },
  {
   "cell_type": "code",
   "execution_count": 1,
   "id": "f52546c3-0b8e-4d2a-afca-f27c8aae2c4b",
   "metadata": {},
   "outputs": [
    {
     "name": "stdin",
     "output_type": "stream",
     "text": [
      "Enter a sentence:   good evening\n"
     ]
    },
    {
     "name": "stdout",
     "output_type": "stream",
     "text": [
      "Total number of vowels: 5\n"
     ]
    }
   ],
   "source": [
    "sentence = input(\"Enter a sentence: \")\n",
    "sentence = sentence.lower()\n",
    "words = sentence.split()\n",
    "vowels = \"aeiou\"\n",
    "vowel_count = 0\n",
    "for word in words:\n",
    "    for char in word:\n",
    "        if char in vowels:\n",
    "            vowel_count += 1\n",
    "print(\"Total number of vowels:\", vowel_count)\n"
   ]
  },
  {
   "cell_type": "code",
   "execution_count": null,
   "id": "dd6b557e-9a51-45f8-bd45-af683a1c031d",
   "metadata": {},
   "outputs": [],
   "source": []
  }
 ],
 "metadata": {
  "kernelspec": {
   "display_name": "Python 3 (ipykernel)",
   "language": "python",
   "name": "python3"
  },
  "language_info": {
   "codemirror_mode": {
    "name": "ipython",
    "version": 3
   },
   "file_extension": ".py",
   "mimetype": "text/x-python",
   "name": "python",
   "nbconvert_exporter": "python",
   "pygments_lexer": "ipython3",
   "version": "3.12.8"
  }
 },
 "nbformat": 4,
 "nbformat_minor": 5
}
