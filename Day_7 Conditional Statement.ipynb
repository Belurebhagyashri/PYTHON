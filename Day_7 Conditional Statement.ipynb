{
 "cells": [
  {
   "cell_type": "markdown",
   "id": "b3b3a7f4-7263-4b6a-b3ac-9751a0d50eb1",
   "metadata": {},
   "source": [
    "## Conditional Statement:-"
   ]
  },
  {
   "cell_type": "code",
   "execution_count": null,
   "id": "ff1ef64e-f29f-41a5-ad35-40df04ea9695",
   "metadata": {},
   "outputs": [],
   "source": [
    "A conditional statement lets your program make decisions based on certain conditions (True or False).\n",
    "\n",
    "Example:\n",
    "If it’s raining → take an umbrella.\n",
    "If it’s not raining → don’t take an umbrella.\n",
    "\n",
    "In Python, this is done using:\n",
    "\n",
    "if\n",
    "\n",
    "elif (else if)\n",
    "\n",
    "else"
   ]
  },
  {
   "cell_type": "markdown",
   "id": "f38978d8-507d-4976-8205-342cdd1534ed",
   "metadata": {},
   "source": [
    "### If Statement:-"
   ]
  },
  {
   "cell_type": "code",
   "execution_count": null,
   "id": "e0363eb8-a8b1-45a6-968b-357d6eeca9af",
   "metadata": {},
   "outputs": [],
   "source": [
    "if condition:\n",
    "    operation"
   ]
  },
  {
   "cell_type": "markdown",
   "id": "3072a593-0d88-46e5-9a44-3877614d29cf",
   "metadata": {},
   "source": [
    "#### Syntax:"
   ]
  },
  {
   "cell_type": "code",
   "execution_count": null,
   "id": "653753c5-afd0-413e-8c3c-6e952b89ff9f",
   "metadata": {},
   "outputs": [],
   "source": [
    "if condition:\n",
    "    operation"
   ]
  },
  {
   "cell_type": "code",
   "execution_count": 14,
   "id": "a0b61e64-7fe6-4aa0-a625-07da21c982ca",
   "metadata": {},
   "outputs": [
    {
     "name": "stdin",
     "output_type": "stream",
     "text": [
      "enter age: 20\n"
     ]
    },
    {
     "name": "stdout",
     "output_type": "stream",
     "text": [
      "You are  eligibel vote\n"
     ]
    }
   ],
   "source": [
    "age=int(input(\"enter age:\"))\n",
    "if age >=18:\n",
    " print(\"You are  eligibel vote\")\n",
    "elif age<=18:\n",
    "        print(\"You are not eligible vote\")\n"
   ]
  },
  {
   "cell_type": "markdown",
   "id": "5d13306c-b5dc-4bdb-b544-3a8c801fbf4c",
   "metadata": {},
   "source": [
    "#### If else Statement:-"
   ]
  },
  {
   "cell_type": "code",
   "execution_count": null,
   "id": "53f99e14-08ac-49f5-bc34-e2dfe7ed448c",
   "metadata": {},
   "outputs": [],
   "source": [
    ">>  Adds an alternative block to execute when the condition is False."
   ]
  },
  {
   "cell_type": "code",
   "execution_count": 20,
   "id": "2968502b-c6f4-4d38-a9f6-8f9f2eaa7914",
   "metadata": {},
   "outputs": [
    {
     "name": "stdout",
     "output_type": "stream",
     "text": [
      "number is negative\n"
     ]
    }
   ],
   "source": [
    "num=-7\n",
    "if num >=0:\n",
    "    print(\"number is positive\")\n",
    "else:\n",
    "    print(\"number is negative\")"
   ]
  },
  {
   "cell_type": "markdown",
   "id": "418c3bb8-d653-4335-8e91-56912575befd",
   "metadata": {},
   "source": [
    "### Nested If Else Statement:-"
   ]
  },
  {
   "cell_type": "markdown",
   "id": "f3f1b65d-645d-4eff-aa1e-93743838b942",
   "metadata": {},
   "source": [
    "### program to find if number is positive, negative or zero"
   ]
  },
  {
   "cell_type": "code",
   "execution_count": 26,
   "id": "d9f09c6a-cd2e-4e75-ab45-530935f7b0ab",
   "metadata": {},
   "outputs": [
    {
     "name": "stdin",
     "output_type": "stream",
     "text": [
      "Enetr number: 50\n"
     ]
    },
    {
     "name": "stdout",
     "output_type": "stream",
     "text": [
      "number is positive\n"
     ]
    }
   ],
   "source": [
    "number=int(input(\"Enetr number:\"))\n",
    "if number > 0:\n",
    "    print(\"number is positive\")\n",
    "elif number < 0:\n",
    "    print(\"number is negative\")\n",
    "else:\n",
    "    print(\"number is zero\")"
   ]
  },
  {
   "cell_type": "markdown",
   "id": "f957492c-56fc-45db-a5ff-e5e5b38b50af",
   "metadata": {},
   "source": [
    "#### program to calculate grade of the students\n"
   ]
  },
  {
   "cell_type": "code",
   "execution_count": 30,
   "id": "ce4bb750-6d6d-4c0b-91f4-0d391176faf0",
   "metadata": {},
   "outputs": [
    {
     "name": "stdout",
     "output_type": "stream",
     "text": [
      "grade:D\n"
     ]
    }
   ],
   "source": [
    "score=50\n",
    "if score >=90:\n",
    "    grade=\"A\"\n",
    "elif score >80:\n",
    "    garde=\"B\"\n",
    "elif score >=70:\n",
    "    gared=\"c\"\n",
    "else:\n",
    "    grade=\"D\"\n",
    "    print(f\"grade:{grade}\")"
   ]
  },
  {
   "cell_type": "markdown",
   "id": "3d40985a-8136-46e5-9ee5-b7c2e3d19fdf",
   "metadata": {},
   "source": [
    "### program Check if a user’s login credentials are valid"
   ]
  },
  {
   "cell_type": "code",
   "execution_count": 35,
   "id": "f83dadc6-2332-4f2f-91da-88cbb38cfce5",
   "metadata": {},
   "outputs": [
    {
     "name": "stdin",
     "output_type": "stream",
     "text": [
      "Enter name: shree_123\n",
      "Enter Password: shree@123\n"
     ]
    },
    {
     "name": "stdout",
     "output_type": "stream",
     "text": [
      "login succesfully\n"
     ]
    }
   ],
   "source": [
    "username=input(\"Enter name:\")\n",
    "password=input(\"Enter Password:\")\n",
    "if username ==\"shree_123\"and password ==\"shree@123\":\n",
    "    print(\"login succesfully\")\n",
    "else:\n",
    "    print(\"Invalid credentials!\")\n",
    "  "
   ]
  },
  {
   "cell_type": "code",
   "execution_count": 36,
   "id": "bede1fc7-8016-4881-9b87-d2d0b448f656",
   "metadata": {},
   "outputs": [
    {
     "name": "stdout",
     "output_type": "stream",
     "text": [
      "Carry an umbrella and wear a raincoat!\n"
     ]
    }
   ],
   "source": [
    "# Suggest outfits based on weather conditions.\n",
    "weather = \"rainy\"  # Options: sunny, rainy, snowy\n",
    "\n",
    "if weather == \"sunny\":\n",
    "    print(\"Wear sunglasses and a hat!\")\n",
    "elif weather == \"rainy\":\n",
    "    print(\"Carry an umbrella and wear a raincoat!\")\n",
    "elif weather == \"snowy\":\n",
    "    print(\"Wear a heavy jacket and boots!\")\n",
    "else:\n",
    "    print(\"Check the weather forecast again.\")"
   ]
  },
  {
   "cell_type": "code",
   "execution_count": null,
   "id": "a1904d86-3c19-4e92-adb6-7206b6e05982",
   "metadata": {},
   "outputs": [],
   "source": []
  }
 ],
 "metadata": {
  "kernelspec": {
   "display_name": "Python 3 (ipykernel)",
   "language": "python",
   "name": "python3"
  },
  "language_info": {
   "codemirror_mode": {
    "name": "ipython",
    "version": 3
   },
   "file_extension": ".py",
   "mimetype": "text/x-python",
   "name": "python",
   "nbconvert_exporter": "python",
   "pygments_lexer": "ipython3",
   "version": "3.12.8"
  }
 },
 "nbformat": 4,
 "nbformat_minor": 5
}
