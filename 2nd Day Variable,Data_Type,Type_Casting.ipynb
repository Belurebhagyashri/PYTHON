{
 "cells": [
  {
   "cell_type": "markdown",
   "id": "1640c612-6847-4b16-a1ef-5568ba815811",
   "metadata": {},
   "source": [
    "# Variable:\n"
   ]
  },
  {
   "cell_type": "code",
   "execution_count": 1,
   "id": "409fa0f5-bc90-46e7-9ea3-e1956088f958",
   "metadata": {},
   "outputs": [
    {
     "data": {
      "text/plain": [
       "'this is variable'"
      ]
     },
     "execution_count": 1,
     "metadata": {},
     "output_type": "execute_result"
    }
   ],
   "source": [
    "variable1=\"this is variable\"\n",
    "variable1"
   ]
  },
  {
   "cell_type": "code",
   "execution_count": 2,
   "id": "71d61bfd-092b-4d66-ad8e-12e74230c605",
   "metadata": {},
   "outputs": [
    {
     "name": "stdout",
     "output_type": "stream",
     "text": [
      "[1, 2, 3]\n",
      "this is variable\n"
     ]
    }
   ],
   "source": [
    "variable2=[1,2,3]\n",
    "variable2\n",
    "print(variable2)\n",
    "print(variable1)"
   ]
  },
  {
   "cell_type": "code",
   "execution_count": 3,
   "id": "05e02fca-c5ab-4d5f-bca9-39c3acb1174d",
   "metadata": {},
   "outputs": [
    {
     "data": {
      "text/plain": [
       "str"
      ]
     },
     "execution_count": 3,
     "metadata": {},
     "output_type": "execute_result"
    }
   ],
   "source": [
    "type (variable1)"
   ]
  },
  {
   "cell_type": "code",
   "execution_count": 4,
   "id": "c1d40626-887f-4a52-bff2-6bb7aa3c3328",
   "metadata": {},
   "outputs": [
    {
     "data": {
      "text/plain": [
       "list"
      ]
     },
     "execution_count": 4,
     "metadata": {},
     "output_type": "execute_result"
    }
   ],
   "source": [
    "type (variable2)"
   ]
  },
  {
   "cell_type": "code",
   "execution_count": 6,
   "id": "76f893ec-44c4-4de3-b1a7-de8e5943f569",
   "metadata": {},
   "outputs": [
    {
     "name": "stdin",
     "output_type": "stream",
     "text": [
      "this is the message that will be showed to the user BHAGYASHREE\n"
     ]
    }
   ],
   "source": [
    "var=input(\"this is the message that will be showed to the user\")"
   ]
  },
  {
   "cell_type": "code",
   "execution_count": 7,
   "id": "177780b9-710a-492c-b385-c4ff38e66a90",
   "metadata": {},
   "outputs": [
    {
     "name": "stdin",
     "output_type": "stream",
     "text": [
      "please enter your age  21\n"
     ]
    }
   ],
   "source": [
    "var4=input(\"please enter your age \")"
   ]
  },
  {
   "cell_type": "code",
   "execution_count": 9,
   "id": "3eb4cff7-3e44-4517-b065-ca7b69062553",
   "metadata": {},
   "outputs": [],
   "source": [
    "string1=\"hello everyone\""
   ]
  },
  {
   "cell_type": "code",
   "execution_count": 10,
   "id": "7823df28-5ae9-4ff7-82b5-e08f2d08ab8a",
   "metadata": {},
   "outputs": [
    {
     "data": {
      "text/plain": [
       "str"
      ]
     },
     "execution_count": 10,
     "metadata": {},
     "output_type": "execute_result"
    }
   ],
   "source": [
    "type(string1)"
   ]
  },
  {
   "cell_type": "code",
   "execution_count": 13,
   "id": "9915ef3a-576d-4595-9414-fcaa1a6f9bb6",
   "metadata": {},
   "outputs": [
    {
     "name": "stdout",
     "output_type": "stream",
     "text": [
      "123\n"
     ]
    }
   ],
   "source": [
    "num1=123\n",
    "print(num1)"
   ]
  },
  {
   "cell_type": "code",
   "execution_count": 14,
   "id": "cc52d48d-22b5-4393-86d8-537a7c5b22bd",
   "metadata": {},
   "outputs": [
    {
     "data": {
      "text/plain": [
       "int"
      ]
     },
     "execution_count": 14,
     "metadata": {},
     "output_type": "execute_result"
    }
   ],
   "source": [
    "type(num1)"
   ]
  },
  {
   "cell_type": "code",
   "execution_count": 16,
   "id": "5744c431-7736-491d-9be2-ec7d5ddc56ca",
   "metadata": {},
   "outputs": [
    {
     "name": "stdout",
     "output_type": "stream",
     "text": [
      "[1, 2, 3, 4, 5]\n"
     ]
    }
   ],
   "source": [
    "list=[1,2,3,4,5]\n",
    "print(list)"
   ]
  },
  {
   "cell_type": "code",
   "execution_count": 17,
   "id": "a0a8f006-8190-4408-883e-86397435d795",
   "metadata": {},
   "outputs": [
    {
     "data": {
      "text/plain": [
       "list"
      ]
     },
     "execution_count": 17,
     "metadata": {},
     "output_type": "execute_result"
    }
   ],
   "source": [
    "type(list)"
   ]
  },
  {
   "cell_type": "code",
   "execution_count": 18,
   "id": "acde3f0d-f0dd-4cf8-addc-56a09b2e3627",
   "metadata": {},
   "outputs": [
    {
     "name": "stdout",
     "output_type": "stream",
     "text": [
      "shree\n"
     ]
    }
   ],
   "source": [
    "a=(\"shree\")\n",
    "print(a)"
   ]
  },
  {
   "cell_type": "code",
   "execution_count": 19,
   "id": "3a0d73ee-9d0a-4eb6-b9ef-822ab91ed894",
   "metadata": {},
   "outputs": [
    {
     "data": {
      "text/plain": [
       "str"
      ]
     },
     "execution_count": 19,
     "metadata": {},
     "output_type": "execute_result"
    }
   ],
   "source": [
    "type(a)"
   ]
  },
  {
   "cell_type": "code",
   "execution_count": 20,
   "id": "1fc098c1-930a-4893-9e58-60a82b5ae2fc",
   "metadata": {},
   "outputs": [
    {
     "name": "stdout",
     "output_type": "stream",
     "text": [
      "this is example\n"
     ]
    }
   ],
   "source": [
    "abc=\"this is example\"\n",
    "abc\n",
    "print(abc)"
   ]
  },
  {
   "cell_type": "markdown",
   "id": "af4f560e-7a75-49b3-aa1e-01a360d58764",
   "metadata": {},
   "source": [
    "# Data types:-"
   ]
  },
  {
   "cell_type": "raw",
   "id": "e3943308-12da-43ce-8bf4-f2a46c47eb82",
   "metadata": {},
   "source": [
    ">> variable can store data of different types \n",
    ">> python has various built-in data types by defaults\n"
   ]
  },
  {
   "cell_type": "code",
   "execution_count": 3,
   "id": "2ff15b3a-276c-4165-884d-90fafbd042ab",
   "metadata": {},
   "outputs": [
    {
     "data": {
      "text/plain": [
       "int"
      ]
     },
     "execution_count": 3,
     "metadata": {},
     "output_type": "execute_result"
    }
   ],
   "source": [
    "num=34\n",
    "type(num)"
   ]
  },
  {
   "cell_type": "code",
   "execution_count": 4,
   "id": "9ac50e60-67bc-472d-8a99-34bc22347462",
   "metadata": {},
   "outputs": [
    {
     "data": {
      "text/plain": [
       "float"
      ]
     },
     "execution_count": 4,
     "metadata": {},
     "output_type": "execute_result"
    }
   ],
   "source": [
    "num1=45.45\n",
    "type(num1)"
   ]
  },
  {
   "cell_type": "code",
   "execution_count": 5,
   "id": "c3ec9370-be33-43ee-b16d-9b05ef6ffe49",
   "metadata": {},
   "outputs": [
    {
     "data": {
      "text/plain": [
       "str"
      ]
     },
     "execution_count": 5,
     "metadata": {},
     "output_type": "execute_result"
    }
   ],
   "source": [
    "string1=\"this is string\"\n",
    "type(string1)"
   ]
  },
  {
   "cell_type": "code",
   "execution_count": 6,
   "id": "59db3ff1-cc22-4ff5-8440-87127b5ee84d",
   "metadata": {},
   "outputs": [
    {
     "data": {
      "text/plain": [
       "str"
      ]
     },
     "execution_count": 6,
     "metadata": {},
     "output_type": "execute_result"
    }
   ],
   "source": [
    "ns=\"34\"\n",
    "type(ns)"
   ]
  },
  {
   "cell_type": "markdown",
   "id": "6db6a0aa-889e-46c3-8ae3-7578e8c338b9",
   "metadata": {},
   "source": [
    "# Python Type Casting"
   ]
  },
  {
   "cell_type": "markdown",
   "id": "bcbd6df6-e3d4-4d42-abc3-017b10e65947",
   "metadata": {},
   "source": [
    ">>used to specify variable type\n",
    ">> to change data type of variable"
   ]
  },
  {
   "cell_type": "markdown",
   "id": "f6997c03-5ace-4958-82c0-7baff490787c",
   "metadata": {},
   "source": [
    "## 1. int to float"
   ]
  },
  {
   "cell_type": "code",
   "execution_count": null,
   "id": "94469ccb-c6b4-4590-af2d-5aaa12c6d703",
   "metadata": {},
   "outputs": [],
   "source": []
  },
  {
   "cell_type": "code",
   "execution_count": 1,
   "id": "19fdf537-e2c1-4a54-8568-2114cb1cd64f",
   "metadata": {},
   "outputs": [
    {
     "name": "stdout",
     "output_type": "stream",
     "text": [
      "a= 45 <class 'int'>\n",
      "b= 45.0 <class 'float'>\n"
     ]
    }
   ],
   "source": [
    "a= 45\n",
    "b = float(a)\n",
    "print('a=',a, type(a)) #  a=45 int\n",
    "print('b=',b, type(b)) # b= 45.0 float"
   ]
  },
  {
   "cell_type": "code",
   "execution_count": 2,
   "id": "e0015c55-a687-4772-8da3-3861d58a8ff6",
   "metadata": {},
   "outputs": [
    {
     "data": {
      "text/plain": [
       "float"
      ]
     },
     "execution_count": 2,
     "metadata": {},
     "output_type": "execute_result"
    }
   ],
   "source": [
    "a=45\n",
    "s=float(a)\n",
    "type(s)\n",
    "# type(a)"
   ]
  },
  {
   "cell_type": "code",
   "execution_count": 3,
   "id": "8acdcbf3-21b7-4fa8-ad2d-bfe3e94f0a1e",
   "metadata": {},
   "outputs": [
    {
     "name": "stdout",
     "output_type": "stream",
     "text": [
      "A >>  12457895 <class 'int'>\n",
      "b=== 12457895.0 <class 'float'>\n"
     ]
    }
   ],
   "source": [
    "A= 12457895\n",
    "b = float(A)\n",
    "print('A >> ',A, type(A)) \n",
    "print('b===',b, type(b)) "
   ]
  },
  {
   "cell_type": "markdown",
   "id": "cb5d68f9-3342-4287-8d9b-a205a3de1b76",
   "metadata": {},
   "source": [
    "## 2. float to int"
   ]
  },
  {
   "cell_type": "code",
   "execution_count": 4,
   "id": "92f8cd3d-94d0-439d-944d-360ce26f64c1",
   "metadata": {},
   "outputs": [
    {
     "name": "stdout",
     "output_type": "stream",
     "text": [
      "a= 45.9999999999999 <class 'float'>\n",
      "b= 45 <class 'int'>\n"
     ]
    }
   ],
   "source": [
    "a= 45.9999999999999\n",
    "b= int(a)\n",
    "print('a=',a, type(a))\n",
    "print('b=',b, type(b))"
   ]
  },
  {
   "cell_type": "code",
   "execution_count": 5,
   "id": "2b3bd13b-1bb9-4716-a720-081bd20f3dac",
   "metadata": {},
   "outputs": [
    {
     "data": {
      "text/plain": [
       "int"
      ]
     },
     "execution_count": 5,
     "metadata": {},
     "output_type": "execute_result"
    }
   ],
   "source": [
    "a=23.33\n",
    "b=int(a)\n",
    "type(b)"
   ]
  },
  {
   "cell_type": "code",
   "execution_count": 6,
   "id": "a372e558-0c22-49dd-a349-c685d0abdb76",
   "metadata": {},
   "outputs": [
    {
     "name": "stdout",
     "output_type": "stream",
     "text": [
      "a= 3.14 <class 'float'>\n",
      "b= 3 <class 'int'>\n"
     ]
    }
   ],
   "source": [
    "a= 3.14\n",
    "b= int(a)\n",
    "print('a=',a, type(a))\n",
    "print('b=',b, type(b))"
   ]
  },
  {
   "cell_type": "markdown",
   "id": "a93f1604-27ab-4c87-a0f1-854be7f3e830",
   "metadata": {},
   "source": [
    "## 3. int to complex"
   ]
  },
  {
   "cell_type": "code",
   "execution_count": 7,
   "id": "7f507703-3efb-443e-8887-3f4f48af91c3",
   "metadata": {},
   "outputs": [
    {
     "name": "stdout",
     "output_type": "stream",
     "text": [
      "a= 4 <class 'int'>\n",
      "b= (4+0j) <class 'complex'>\n"
     ]
    }
   ],
   "source": [
    "a= 4\n",
    "b= complex(a)\n",
    "print('a=',a, type(a))  #4, int\n",
    "print('b=',b, type(b))  # 4+0j,   4+j   complex"
   ]
  },
  {
   "cell_type": "code",
   "execution_count": 8,
   "id": "98b35399-76e5-4a4f-bee8-b197e2397ecf",
   "metadata": {},
   "outputs": [
    {
     "name": "stdout",
     "output_type": "stream",
     "text": [
      "a= -44 <class 'int'>\n",
      "b= (-44+0j) <class 'complex'>\n"
     ]
    }
   ],
   "source": [
    "a= -44\n",
    "b= complex(a)\n",
    "print('a=',a, type(a))\n",
    "print('b=',b, type(b))"
   ]
  },
  {
   "cell_type": "markdown",
   "id": "8d89e393-c095-4a60-88ef-20abfe012818",
   "metadata": {},
   "source": [
    "## 4. float to complex"
   ]
  },
  {
   "cell_type": "code",
   "execution_count": 9,
   "id": "6e502d1d-09c1-4409-96d8-6862ec6d4b5b",
   "metadata": {},
   "outputs": [
    {
     "name": "stdout",
     "output_type": "stream",
     "text": [
      "a= -56.5 <class 'float'>\n",
      "b= (-56.5+0j) <class 'complex'>\n"
     ]
    }
   ],
   "source": [
    "a= -56.5\n",
    "b= complex(a)\n",
    "print('a=',a, type(a))\n",
    "print('b=',b, type(b))"
   ]
  },
  {
   "cell_type": "code",
   "execution_count": 10,
   "id": "d6c5549b-8959-431f-a6b4-7032bfe091b2",
   "metadata": {},
   "outputs": [
    {
     "data": {
      "text/plain": [
       "complex"
      ]
     },
     "execution_count": 10,
     "metadata": {},
     "output_type": "execute_result"
    }
   ],
   "source": [
    "a=complex(78)\n",
    "type(a)"
   ]
  },
  {
   "cell_type": "code",
   "execution_count": 11,
   "id": "d654aea0-37a1-43c5-9b98-e030a0ace7e0",
   "metadata": {},
   "outputs": [
    {
     "name": "stdout",
     "output_type": "stream",
     "text": [
      "a= 56.5 <class 'float'>\n",
      "b= (56.5+0j) <class 'complex'>\n"
     ]
    }
   ],
   "source": [
    "a= 56.5\n",
    "b= complex(a)\n",
    "print('a=',a, type(a))\n",
    "print('b=',b, type(b))"
   ]
  },
  {
   "cell_type": "markdown",
   "id": "9973764b-a7d7-46e9-baf5-8c6ed716003f",
   "metadata": {},
   "source": [
    "## 5. complex to int"
   ]
  },
  {
   "cell_type": "code",
   "execution_count": 12,
   "id": "52dc9670-ffed-4744-9c25-19fe4faf06dc",
   "metadata": {},
   "outputs": [
    {
     "ename": "TypeError",
     "evalue": "int() argument must be a string, a bytes-like object or a real number, not 'complex'",
     "output_type": "error",
     "traceback": [
      "\u001b[31m---------------------------------------------------------------------------\u001b[39m",
      "\u001b[31mTypeError\u001b[39m                                 Traceback (most recent call last)",
      "\u001b[36mCell\u001b[39m\u001b[36m \u001b[39m\u001b[32mIn[12]\u001b[39m\u001b[32m, line 2\u001b[39m\n\u001b[32m      1\u001b[39m a= \u001b[32m5\u001b[39m+\u001b[32m6\u001b[39mj\n\u001b[32m----> \u001b[39m\u001b[32m2\u001b[39m b= \u001b[38;5;28;43mint\u001b[39;49m\u001b[43m(\u001b[49m\u001b[43ma\u001b[49m\u001b[43m)\u001b[49m\n\u001b[32m      3\u001b[39m \u001b[38;5;28mprint\u001b[39m(\u001b[33m'\u001b[39m\u001b[33ma=\u001b[39m\u001b[33m'\u001b[39m,a, \u001b[38;5;28mtype\u001b[39m(a))\n\u001b[32m      4\u001b[39m \u001b[38;5;28mprint\u001b[39m(\u001b[33m'\u001b[39m\u001b[33mb=\u001b[39m\u001b[33m'\u001b[39m,b, \u001b[38;5;28mtype\u001b[39m(b))\n",
      "\u001b[31mTypeError\u001b[39m: int() argument must be a string, a bytes-like object or a real number, not 'complex'"
     ]
    }
   ],
   "source": [
    "a= 5+6j\n",
    "b= int(a)\n",
    "print('a=',a, type(a))\n",
    "print('b=',b, type(b))"
   ]
  },
  {
   "cell_type": "markdown",
   "id": "e31cd194-bcdc-4437-97eb-0265c9895b20",
   "metadata": {},
   "source": [
    ">>TypeError: can't convert complex to int"
   ]
  },
  {
   "cell_type": "markdown",
   "id": "06783fd9-2846-46b1-a71c-46ad53518b84",
   "metadata": {},
   "source": [
    "# 6. complex to float"
   ]
  },
  {
   "cell_type": "code",
   "execution_count": 13,
   "id": "43cffb79-7f16-4baf-a79e-c61e5f27b827",
   "metadata": {},
   "outputs": [
    {
     "ename": "TypeError",
     "evalue": "float() argument must be a string or a real number, not 'complex'",
     "output_type": "error",
     "traceback": [
      "\u001b[31m---------------------------------------------------------------------------\u001b[39m",
      "\u001b[31mTypeError\u001b[39m                                 Traceback (most recent call last)",
      "\u001b[36mCell\u001b[39m\u001b[36m \u001b[39m\u001b[32mIn[13]\u001b[39m\u001b[32m, line 2\u001b[39m\n\u001b[32m      1\u001b[39m a= \u001b[32m5\u001b[39m+\u001b[32m6\u001b[39mj\n\u001b[32m----> \u001b[39m\u001b[32m2\u001b[39m b= \u001b[38;5;28;43mfloat\u001b[39;49m\u001b[43m(\u001b[49m\u001b[43ma\u001b[49m\u001b[43m)\u001b[49m\n\u001b[32m      3\u001b[39m \u001b[38;5;28mprint\u001b[39m(\u001b[33m'\u001b[39m\u001b[33ma=\u001b[39m\u001b[33m'\u001b[39m,a, \u001b[38;5;28mtype\u001b[39m(a))\n\u001b[32m      4\u001b[39m \u001b[38;5;28mprint\u001b[39m(\u001b[33m'\u001b[39m\u001b[33mb=\u001b[39m\u001b[33m'\u001b[39m,b, \u001b[38;5;28mtype\u001b[39m(b))\n",
      "\u001b[31mTypeError\u001b[39m: float() argument must be a string or a real number, not 'complex'"
     ]
    }
   ],
   "source": [
    "a= 5+6j\n",
    "b= float(a)\n",
    "print('a=',a, type(a))\n",
    "print('b=',b, type(b))"
   ]
  },
  {
   "cell_type": "markdown",
   "id": "01102b92-5c0c-410c-8992-a52c7bce7e08",
   "metadata": {},
   "source": [
    "## 7. int to string"
   ]
  },
  {
   "cell_type": "code",
   "execution_count": 14,
   "id": "9d4e6172-6f85-49b8-8d34-97e2e21ff2c6",
   "metadata": {},
   "outputs": [
    {
     "data": {
      "text/plain": [
       "str"
      ]
     },
     "execution_count": 14,
     "metadata": {},
     "output_type": "execute_result"
    }
   ],
   "source": [
    "a=7899\n",
    "b=str(a)\n",
    "type(b)\n",
    "type(a)\n",
    "type(b)"
   ]
  },
  {
   "cell_type": "code",
   "execution_count": 15,
   "id": "ccf0a61c-4c0a-4074-bcc9-bd3eccad7365",
   "metadata": {},
   "outputs": [
    {
     "name": "stdout",
     "output_type": "stream",
     "text": [
      "a= 55 <class 'int'>\n",
      "b= 55 <class 'str'>\n"
     ]
    }
   ],
   "source": [
    "a= 55\n",
    "b= str(a)\n",
    "print('a=',a, type(a)) #55,int\n",
    "print('b=',b, type(b)) #'55', str"
   ]
  },
  {
   "cell_type": "markdown",
   "id": "da2a78ff-a6f6-4ec0-a6ba-56f58d5dfef0",
   "metadata": {},
   "source": [
    "## 8. float to string"
   ]
  },
  {
   "cell_type": "code",
   "execution_count": 16,
   "id": "36d6df95-7437-4806-900f-4b3cf599bd76",
   "metadata": {},
   "outputs": [
    {
     "name": "stdout",
     "output_type": "stream",
     "text": [
      "a= 55.6 <class 'float'>\n",
      "b= 55.6 <class 'str'>\n"
     ]
    },
    {
     "data": {
      "text/plain": [
       "'55.6'"
      ]
     },
     "execution_count": 16,
     "metadata": {},
     "output_type": "execute_result"
    }
   ],
   "source": [
    "a= 55.6\n",
    "b= str(a)\n",
    "print('a=',a, type(a))\n",
    "print('b=',b, type(b))\n",
    "b"
   ]
  },
  {
   "cell_type": "code",
   "execution_count": 17,
   "id": "b8f81554-1781-42e1-9ee2-02fd2818f559",
   "metadata": {},
   "outputs": [
    {
     "name": "stdout",
     "output_type": "stream",
     "text": [
      "a= (5+6j) <class 'complex'>\n",
      "b= (5+6j) <class 'str'>\n"
     ]
    },
    {
     "data": {
      "text/plain": [
       "'(5+6j)'"
      ]
     },
     "execution_count": 17,
     "metadata": {},
     "output_type": "execute_result"
    }
   ],
   "source": [
    "a= 5+6j\n",
    "b= str(a)\n",
    "print('a=',a, type(a))\n",
    "print('b=',b, type(b))\n",
    "b"
   ]
  },
  {
   "cell_type": "markdown",
   "id": "d27864ef-6857-47ee-8e15-66ccc99c797b",
   "metadata": {},
   "source": [
    "## 9. string to int\n"
   ]
  },
  {
   "cell_type": "code",
   "execution_count": 18,
   "id": "aeec4750-8937-4c1f-8806-d5a78a3b0aaa",
   "metadata": {},
   "outputs": [
    {
     "data": {
      "text/plain": [
       "int"
      ]
     },
     "execution_count": 18,
     "metadata": {},
     "output_type": "execute_result"
    }
   ],
   "source": [
    "a=\"123vgg@$##\"\n",
    "aa=123\n",
    "type(aa)\n"
   ]
  },
  {
   "cell_type": "code",
   "execution_count": 19,
   "id": "0be1eeee-a004-4d84-b63b-cb138f4e84f1",
   "metadata": {},
   "outputs": [
    {
     "name": "stdout",
     "output_type": "stream",
     "text": [
      "a= 1234 <class 'str'>\n",
      "b= 1234 <class 'int'>\n"
     ]
    }
   ],
   "source": [
    "string1 = '1234'\n",
    "b = int(string1)\n",
    "print('a=',string1, type(string1))\n",
    "print('b=',b, type(b))"
   ]
  },
  {
   "cell_type": "code",
   "execution_count": 21,
   "id": "00485e6b-55ea-45b5-9ae7-77e176efd713",
   "metadata": {},
   "outputs": [
    {
     "data": {
      "text/plain": [
       "'54'"
      ]
     },
     "execution_count": 21,
     "metadata": {},
     "output_type": "execute_result"
    }
   ],
   "source": [
    "d= '4'\n",
    "g= '5'\n",
    "g+d #54"
   ]
  },
  {
   "cell_type": "code",
   "execution_count": null,
   "id": "bcc8bbc7-7d62-47fb-b5c6-1640fb62cf14",
   "metadata": {},
   "outputs": [],
   "source": []
  }
 ],
 "metadata": {
  "kernelspec": {
   "display_name": "Python 3 (ipykernel)",
   "language": "python",
   "name": "python3"
  },
  "language_info": {
   "codemirror_mode": {
    "name": "ipython",
    "version": 3
   },
   "file_extension": ".py",
   "mimetype": "text/x-python",
   "name": "python",
   "nbconvert_exporter": "python",
   "pygments_lexer": "ipython3",
   "version": "3.12.8"
  }
 },
 "nbformat": 4,
 "nbformat_minor": 5
}
