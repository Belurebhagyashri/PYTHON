{
 "cells": [
  {
   "cell_type": "markdown",
   "id": "d4eb8b6c-2360-4d2e-878c-4da102517668",
   "metadata": {},
   "source": [
    "# Length of string"
   ]
  },
  {
   "cell_type": "code",
   "execution_count": 3,
   "id": "53a5be71-6c3a-4d2c-b6a1-fcef93bb079f",
   "metadata": {},
   "outputs": [
    {
     "data": {
      "text/plain": [
       "6"
      ]
     },
     "execution_count": 3,
     "metadata": {},
     "output_type": "execute_result"
    }
   ],
   "source": [
    "string = 'python'\n",
    "length=len(string)\n",
    "length"
   ]
  },
  {
   "cell_type": "code",
   "execution_count": 4,
   "id": "4f94afb7-b067-4c89-9404-b2bb03d6548a",
   "metadata": {},
   "outputs": [
    {
     "name": "stdout",
     "output_type": "stream",
     "text": [
      "hello good morning everyone\n"
     ]
    }
   ],
   "source": [
    "string1=\"hello good morning everyone\"\n",
    "print(string1)"
   ]
  },
  {
   "cell_type": "code",
   "execution_count": 8,
   "id": "d242ed50-e670-4080-a146-76e22166ce5c",
   "metadata": {},
   "outputs": [
    {
     "name": "stdout",
     "output_type": "stream",
     "text": [
      "n\n",
      "n\n"
     ]
    }
   ],
   "source": [
    "string2=\"python\"\n",
    "length=len(string2)\n",
    "print(string2[length-1])\n",
    "print(string2[-1])"
   ]
  },
  {
   "cell_type": "markdown",
   "id": "7dc1d781-4ddb-4434-8122-2496e997a924",
   "metadata": {},
   "source": [
    "# Slicing"
   ]
  },
  {
   "cell_type": "code",
   "execution_count": 9,
   "id": "e0da1109-b5a4-418a-a2df-ff9bb462964d",
   "metadata": {},
   "outputs": [
    {
     "data": {
      "text/plain": [
       "'y'"
      ]
     },
     "execution_count": 9,
     "metadata": {},
     "output_type": "execute_result"
    }
   ],
   "source": [
    "string='python'\n",
    "string[1]"
   ]
  },
  {
   "cell_type": "code",
   "execution_count": 12,
   "id": "4754dbf5-fe30-442e-b6e8-a73fa82794ad",
   "metadata": {},
   "outputs": [
    {
     "data": {
      "text/plain": [
       "'pyt'"
      ]
     },
     "execution_count": 12,
     "metadata": {},
     "output_type": "execute_result"
    }
   ],
   "source": [
    "string[0:3]"
   ]
  },
  {
   "cell_type": "code",
   "execution_count": 13,
   "id": "06dee930-59c4-49f4-9f59-1e8ad5068127",
   "metadata": {},
   "outputs": [
    {
     "data": {
      "text/plain": [
       "'pyth'"
      ]
     },
     "execution_count": 13,
     "metadata": {},
     "output_type": "execute_result"
    }
   ],
   "source": [
    "string[0:4]"
   ]
  },
  {
   "cell_type": "code",
   "execution_count": 15,
   "id": "06bf79db-cac8-4ba2-8049-3d2b9c3ce266",
   "metadata": {},
   "outputs": [
    {
     "data": {
      "text/plain": [
       "'python'"
      ]
     },
     "execution_count": 15,
     "metadata": {},
     "output_type": "execute_result"
    }
   ],
   "source": [
    "string[0:6]"
   ]
  },
  {
   "cell_type": "code",
   "execution_count": 17,
   "id": "64b48fa8-2af1-4d1b-9ee6-8b96d90a70cf",
   "metadata": {},
   "outputs": [
    {
     "name": "stdout",
     "output_type": "stream",
     "text": [
      "6\n"
     ]
    }
   ],
   "source": [
    "print(len(string))"
   ]
  },
  {
   "cell_type": "markdown",
   "id": "5a6dbadf-6640-42ea-9f9c-10d2f9f9c4bb",
   "metadata": {},
   "source": [
    "# operators"
   ]
  },
  {
   "cell_type": "markdown",
   "id": "9fdf9567-2290-4f0c-a17b-bfe8c69b6ef2",
   "metadata": {},
   "source": [
    "Arithmetic Operators:\n",
    "    \n",
    " + (Addition): x + y\n",
    "\n",
    " - (Subtraction): x - y\n",
    "\n",
    " * (Multiplication): x * y\n",
    "\n",
    " / (Division): x / y (always returns a float)\n",
    "\n",
    " % (Modulus): x % y (returns the remainder of the division)\n",
    "\n",
    " ** (Exponentiation): x ** y (x to the power of y)"
   ]
  },
  {
   "cell_type": "code",
   "execution_count": 19,
   "id": "db74f4e5-8beb-4398-85b3-1137e46a51f6",
   "metadata": {},
   "outputs": [
    {
     "name": "stdout",
     "output_type": "stream",
     "text": [
      "4\n"
     ]
    }
   ],
   "source": [
    "a=1+3\n",
    "print(a)"
   ]
  },
  {
   "cell_type": "markdown",
   "id": "161f368a-d8d8-44a6-9aaf-07b95a2c0d24",
   "metadata": {},
   "source": [
    "Assignment Operators:\n",
    "    \n",
    "Used to assign values to variables.\n",
    "\n",
    "= (Assign): x = 5\n",
    "\n",
    "+= (Add AND assign): x += 3 is equivalent to x = x + 3\n",
    "\n",
    "-= (Subtract AND assign): x -= 3 is equivalent to x = x - 3\n",
    "\n",
    "*= (Multiply AND assign): x *= 3 is equivalent to x = x * 3\n",
    "\n",
    "/= (Divide AND assign): x /= 3 is equivalent to x = x / 3\n"
   ]
  },
  {
   "cell_type": "markdown",
   "id": "cf884c2c-92d7-4d14-99d5-c795c7e0270c",
   "metadata": {},
   "source": [
    "Comparison (Relational) Operators:\n",
    "    \n",
    ">> Used to compare two values and return a True or False (Boolean) result.\n",
    "\n",
    "== (Equal to): x == y\n",
    "\n",
    "!= (Not equal to): x != y\n",
    "\n",
    "> (Greater than): x > y\n",
    "\n",
    "< (Less than): x < y\n",
    "\n",
    ">= (Greater than or equal to): x >= y\n",
    "\n",
    "<= (Less than or equal to): x <= y"
   ]
  },
  {
   "cell_type": "markdown",
   "id": "81b334a6-bc03-4356-bd5e-999516f4fe7b",
   "metadata": {},
   "source": [
    "Logical Operators:\n",
    "    \n",
    ">> Used to combine conditional statements.\n",
    "\n",
    "and : Returns True if both statements are true. x > 5 and x < 10\n",
    "\n",
    "or: Returns True if at least one of the statements is true. x > 5 or x < 4\n",
    "\n",
    "not: Reverses the result; returns False if the result is true. not(x > 5 and x < 10)\n",
    "\n"
   ]
  },
  {
   "cell_type": "markdown",
   "id": "788b71de-fabb-4809-8f58-efbc2e8e0273",
   "metadata": {},
   "source": [
    "Membership Operators:\n",
    "    \n",
    ">> Used to test if a sequence (like a string, list, or tuple) contains a specified value.\n",
    "\n",
    "in: Returns True if a sequence with the specified value is present in the object. 'apple' in fruits\n",
    "\n",
    "not in: Returns True if a sequence with the specified value is not present in the object. 'grape' not in fruits"
   ]
  },
  {
   "cell_type": "markdown",
   "id": "07b3f3a8-a42b-4cd5-8566-517204a9b422",
   "metadata": {},
   "source": [
    "# if else"
   ]
  },
  {
   "cell_type": "code",
   "execution_count": 20,
   "id": "21b203cf-2c32-44bc-bfec-7adf2ddd4e13",
   "metadata": {},
   "outputs": [
    {
     "name": "stdout",
     "output_type": "stream",
     "text": [
      "The number is positive!\n"
     ]
    }
   ],
   "source": [
    "my_number = 7\n",
    "\n",
    "if my_number > 0:\n",
    "  print(\"The number is positive!\")\n",
    "else:\n",
    "  print(\"The number is not positive.\")"
   ]
  },
  {
   "cell_type": "code",
   "execution_count": 21,
   "id": "3e77b708-995d-48a2-8278-75e10b377c52",
   "metadata": {},
   "outputs": [
    {
     "name": "stdout",
     "output_type": "stream",
     "text": [
      "Oh no, I don't have enough money.\n"
     ]
    }
   ],
   "source": [
    "my_money = 5\n",
    "candy_price = 10\n",
    "\n",
    "if my_money >= candy_price:\n",
    "  print(\"Yes! I can buy the candy.\")\n",
    "else:\n",
    "  print(\"Oh no, I don't have enough money.\")"
   ]
  },
  {
   "cell_type": "code",
   "execution_count": null,
   "id": "ee531b01-f571-4ab3-b05d-ac78aa6d19b5",
   "metadata": {},
   "outputs": [],
   "source": []
  }
 ],
 "metadata": {
  "kernelspec": {
   "display_name": "Python 3 (ipykernel)",
   "language": "python",
   "name": "python3"
  },
  "language_info": {
   "codemirror_mode": {
    "name": "ipython",
    "version": 3
   },
   "file_extension": ".py",
   "mimetype": "text/x-python",
   "name": "python",
   "nbconvert_exporter": "python",
   "pygments_lexer": "ipython3",
   "version": "3.12.8"
  }
 },
 "nbformat": 4,
 "nbformat_minor": 5
}
