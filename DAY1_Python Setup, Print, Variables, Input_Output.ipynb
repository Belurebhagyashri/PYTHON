{
 "cells": [
  {
   "cell_type": "markdown",
   "id": "b5342dbb-49f1-48ee-8d83-1d65bc1e344a",
   "metadata": {},
   "source": [
    "# PYTHON BASIC:-\n",
    "# 1.Print Statement....."
   ]
  },
  {
   "cell_type": "code",
   "execution_count": 3,
   "id": "72592e71-09e5-4431-bf64-d8367c47d28c",
   "metadata": {},
   "outputs": [
    {
     "name": "stdout",
     "output_type": "stream",
     "text": [
      "Hellow\n"
     ]
    }
   ],
   "source": [
    "print(\"Hellow\")\n"
   ]
  },
  {
   "cell_type": "code",
   "execution_count": 4,
   "id": "192bb282-5dec-4688-bf7a-a7cbc329afd9",
   "metadata": {},
   "outputs": [
    {
     "name": "stdout",
     "output_type": "stream",
     "text": [
      "60\n"
     ]
    }
   ],
   "source": [
    "a=10\n",
    "b=20\n",
    "c=30\n",
    "d=a+b+c\n",
    "print(d)"
   ]
  },
  {
   "cell_type": "code",
   "execution_count": 5,
   "id": "10b9f99f-1aaf-40ed-b998-a60098d36810",
   "metadata": {},
   "outputs": [
    {
     "name": "stdout",
     "output_type": "stream",
     "text": [
      "20000\n"
     ]
    }
   ],
   "source": [
    "a=100\n",
    "b=200\n",
    "c=a*b\n",
    "print(c)"
   ]
  },
  {
   "cell_type": "code",
   "execution_count": 11,
   "id": "a43439b2-7fd6-40f2-8863-b418d754fc35",
   "metadata": {},
   "outputs": [
    {
     "name": "stdout",
     "output_type": "stream",
     "text": [
      "Hello everyone\n"
     ]
    }
   ],
   "source": [
    "print(\"Hello everyone\")"
   ]
  },
  {
   "cell_type": "markdown",
   "id": "82ca8a51-ef30-4eb6-aed5-7bf784080a35",
   "metadata": {},
   "source": [
    "# 2. VARIABLES:-"
   ]
  },
  {
   "cell_type": "code",
   "execution_count": 6,
   "id": "e520ba6c-ac2e-4e01-b4cd-7f711f590ed1",
   "metadata": {},
   "outputs": [
    {
     "name": "stdout",
     "output_type": "stream",
     "text": [
      "Name: Bhagyashree\n",
      "Age: 21\n"
     ]
    }
   ],
   "source": [
    "name = \"Bhagyashree\"\n",
    "age = 21\n",
    "print(\"Name:\", name)\n",
    "print(\"Age:\", age)"
   ]
  },
  {
   "cell_type": "markdown",
   "id": "194214e6-1d89-4bf5-954c-ff5567535549",
   "metadata": {},
   "source": [
    "# 3. indentation:-"
   ]
  },
  {
   "cell_type": "code",
   "execution_count": 7,
   "id": "66f3779d-f2f0-42b2-93c7-e011623d9795",
   "metadata": {},
   "outputs": [
    {
     "name": "stdout",
     "output_type": "stream",
     "text": [
      "five is greater than two....!!!!\n"
     ]
    }
   ],
   "source": [
    "if 5>2:\n",
    "    print(\"five is greater than two....!!!!\")\n"
   ]
  },
  {
   "cell_type": "code",
   "execution_count": 14,
   "id": "54b3e2ea-2663-4aa2-bd9a-53b404ed77c9",
   "metadata": {},
   "outputs": [
    {
     "name": "stdout",
     "output_type": "stream",
     "text": [
      "five is smaller than ten\n"
     ]
    }
   ],
   "source": [
    "if 5<10:\n",
    "    print(\"five is smaller than ten\")"
   ]
  },
  {
   "cell_type": "markdown",
   "id": "18522dce-ddfe-4dcc-8623-30719efdb256",
   "metadata": {},
   "source": [
    "# 4. Input from User"
   ]
  },
  {
   "cell_type": "code",
   "execution_count": 8,
   "id": "48b51909-b9d3-4c02-8968-522e5db6cd21",
   "metadata": {},
   "outputs": [
    {
     "name": "stdin",
     "output_type": "stream",
     "text": [
      "Enter your name:  SHREE\n"
     ]
    },
    {
     "name": "stdout",
     "output_type": "stream",
     "text": [
      "Hello, SHREE\n"
     ]
    }
   ],
   "source": [
    "your_name = input(\"Enter your name: \")\n",
    "print(\"Hello,\", your_name)\n"
   ]
  },
  {
   "cell_type": "code",
   "execution_count": null,
   "id": "1979d3dd-29b5-4ed8-aeb7-34b8b2ec2483",
   "metadata": {},
   "outputs": [],
   "source": []
  }
 ],
 "metadata": {
  "kernelspec": {
   "display_name": "Python 3 (ipykernel)",
   "language": "python",
   "name": "python3"
  },
  "language_info": {
   "codemirror_mode": {
    "name": "ipython",
    "version": 3
   },
   "file_extension": ".py",
   "mimetype": "text/x-python",
   "name": "python",
   "nbconvert_exporter": "python",
   "pygments_lexer": "ipython3",
   "version": "3.12.8"
  }
 },
 "nbformat": 4,
 "nbformat_minor": 5
}
